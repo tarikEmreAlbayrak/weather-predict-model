{
 "cells": [
  {
   "cell_type": "code",
   "execution_count": 1,
   "id": "bcb10f47-a7a0-44a5-8c0c-a927e86eb5e4",
   "metadata": {},
   "outputs": [
    {
     "name": "stdout",
     "output_type": "stream",
     "text": [
      "WARNING:tensorflow:From C:\\Users\\Emre\\AppData\\Local\\Programs\\Python\\Python311\\Lib\\site-packages\\keras\\src\\losses.py:2976: The name tf.losses.sparse_softmax_cross_entropy is deprecated. Please use tf.compat.v1.losses.sparse_softmax_cross_entropy instead.\n",
      "\n"
     ]
    }
   ],
   "source": [
    "import numpy as np\n",
    "import pandas as pd \n",
    "import matplotlib.pyplot as plt\n",
    "import seaborn as sbn \n",
    "import tensorflow as tf"
   ]
  },
  {
   "cell_type": "code",
   "execution_count": 46,
   "id": "fc6fddd8-def5-4e35-8e8c-246a51059d40",
   "metadata": {},
   "outputs": [],
   "source": [
    "data = pd.read_csv(\"Istanbul Weather Data.csv\")"
   ]
  },
  {
   "cell_type": "code",
   "execution_count": 47,
   "id": "d979418d-d063-4a53-8940-3a0953d8af05",
   "metadata": {},
   "outputs": [
    {
     "data": {
      "text/html": [
       "<div>\n",
       "<style scoped>\n",
       "    .dataframe tbody tr th:only-of-type {\n",
       "        vertical-align: middle;\n",
       "    }\n",
       "\n",
       "    .dataframe tbody tr th {\n",
       "        vertical-align: top;\n",
       "    }\n",
       "\n",
       "    .dataframe thead th {\n",
       "        text-align: right;\n",
       "    }\n",
       "</style>\n",
       "<table border=\"1\" class=\"dataframe\">\n",
       "  <thead>\n",
       "    <tr style=\"text-align: right;\">\n",
       "      <th></th>\n",
       "      <th>DateTime</th>\n",
       "      <th>Condition</th>\n",
       "      <th>Rain</th>\n",
       "      <th>MaxTemp</th>\n",
       "      <th>MinTemp</th>\n",
       "      <th>SunRise</th>\n",
       "      <th>SunSet</th>\n",
       "      <th>MoonRise</th>\n",
       "      <th>MoonSet</th>\n",
       "      <th>AvgWind</th>\n",
       "      <th>AvgHumidity</th>\n",
       "      <th>AvgPressure</th>\n",
       "    </tr>\n",
       "  </thead>\n",
       "  <tbody>\n",
       "    <tr>\n",
       "      <th>0</th>\n",
       "      <td>02.09.2019</td>\n",
       "      <td>Partly cloudy</td>\n",
       "      <td>0.0</td>\n",
       "      <td>27</td>\n",
       "      <td>22</td>\n",
       "      <td>06:32:00</td>\n",
       "      <td>19:37:00</td>\n",
       "      <td>9:52:00</td>\n",
       "      <td>21:45:00</td>\n",
       "      <td>23</td>\n",
       "      <td>66</td>\n",
       "      <td>1012</td>\n",
       "    </tr>\n",
       "    <tr>\n",
       "      <th>1</th>\n",
       "      <td>01.09.2019</td>\n",
       "      <td>Partly cloudy</td>\n",
       "      <td>0.0</td>\n",
       "      <td>27</td>\n",
       "      <td>22</td>\n",
       "      <td>06:31:00</td>\n",
       "      <td>19:38:00</td>\n",
       "      <td>8:37:00</td>\n",
       "      <td>21:13:00</td>\n",
       "      <td>21</td>\n",
       "      <td>66</td>\n",
       "      <td>1011</td>\n",
       "    </tr>\n",
       "    <tr>\n",
       "      <th>2</th>\n",
       "      <td>31.08.2019</td>\n",
       "      <td>Patchy rain possible</td>\n",
       "      <td>0.5</td>\n",
       "      <td>26</td>\n",
       "      <td>22</td>\n",
       "      <td>06:30:00</td>\n",
       "      <td>19:40:00</td>\n",
       "      <td>7:21:00</td>\n",
       "      <td>20:40:00</td>\n",
       "      <td>22</td>\n",
       "      <td>63</td>\n",
       "      <td>1015</td>\n",
       "    </tr>\n",
       "    <tr>\n",
       "      <th>3</th>\n",
       "      <td>30.08.2019</td>\n",
       "      <td>Partly cloudy</td>\n",
       "      <td>0.0</td>\n",
       "      <td>27</td>\n",
       "      <td>22</td>\n",
       "      <td>06:29:00</td>\n",
       "      <td>19:42:00</td>\n",
       "      <td>6:4:00</td>\n",
       "      <td>20:5:00</td>\n",
       "      <td>20</td>\n",
       "      <td>64</td>\n",
       "      <td>1016</td>\n",
       "    </tr>\n",
       "    <tr>\n",
       "      <th>4</th>\n",
       "      <td>29.08.2019</td>\n",
       "      <td>Partly cloudy</td>\n",
       "      <td>0.0</td>\n",
       "      <td>27</td>\n",
       "      <td>23</td>\n",
       "      <td>06:27:00</td>\n",
       "      <td>19:43:00</td>\n",
       "      <td>4:47:00</td>\n",
       "      <td>19:26:00</td>\n",
       "      <td>24</td>\n",
       "      <td>61</td>\n",
       "      <td>1015</td>\n",
       "    </tr>\n",
       "  </tbody>\n",
       "</table>\n",
       "</div>"
      ],
      "text/plain": [
       "     DateTime             Condition  Rain  MaxTemp  MinTemp   SunRise  \\\n",
       "0  02.09.2019         Partly cloudy   0.0       27       22  06:32:00   \n",
       "1  01.09.2019         Partly cloudy   0.0       27       22  06:31:00   \n",
       "2  31.08.2019  Patchy rain possible   0.5       26       22  06:30:00   \n",
       "3  30.08.2019         Partly cloudy   0.0       27       22  06:29:00   \n",
       "4  29.08.2019         Partly cloudy   0.0       27       23  06:27:00   \n",
       "\n",
       "     SunSet MoonRise   MoonSet  AvgWind  AvgHumidity  AvgPressure  \n",
       "0  19:37:00  9:52:00  21:45:00       23           66         1012  \n",
       "1  19:38:00  8:37:00  21:13:00       21           66         1011  \n",
       "2  19:40:00  7:21:00  20:40:00       22           63         1015  \n",
       "3  19:42:00   6:4:00   20:5:00       20           64         1016  \n",
       "4  19:43:00  4:47:00  19:26:00       24           61         1015  "
      ]
     },
     "execution_count": 47,
     "metadata": {},
     "output_type": "execute_result"
    }
   ],
   "source": [
    "data.head()"
   ]
  },
  {
   "cell_type": "code",
   "execution_count": 113,
   "id": "2b242dcf-c17a-4a42-b4d5-f6e42bedae4e",
   "metadata": {},
   "outputs": [],
   "source": [
    "numericData = data.drop([\"Condition\",\"DateTime\",\"SunRise\",\"SunSet\",\"MoonRise\",\"MoonSet\"],axis=1)"
   ]
  },
  {
   "cell_type": "code",
   "execution_count": 114,
   "id": "74d506f7-6f0d-43ba-a2fa-a159fa51d4b7",
   "metadata": {},
   "outputs": [],
   "source": [
    "y = data[\"MaxTemp\"].values"
   ]
  },
  {
   "cell_type": "code",
   "execution_count": 115,
   "id": "54937bf3-1878-4af9-9658-b7f124fe8762",
   "metadata": {},
   "outputs": [
    {
     "data": {
      "text/plain": [
       "array([27, 27, 26, ...,  5,  4,  5], dtype=int64)"
      ]
     },
     "execution_count": 115,
     "metadata": {},
     "output_type": "execute_result"
    }
   ],
   "source": [
    "y"
   ]
  },
  {
   "cell_type": "code",
   "execution_count": 116,
   "id": "6f070add-82c7-424f-bf1e-51a7f5eb098d",
   "metadata": {},
   "outputs": [],
   "source": [
    "x = data.drop([\"Condition\",\"DateTime\", \"MaxTemp\",\"SunRise\",\"SunSet\",\"MoonRise\",\"MoonSet\"],axis=1).values"
   ]
  },
  {
   "cell_type": "code",
   "execution_count": 117,
   "id": "27e762be-7a12-4510-89ef-8fcf23c7b043",
   "metadata": {},
   "outputs": [
    {
     "data": {
      "text/plain": [
       "array([[0.000e+00, 2.200e+01, 2.300e+01, 6.600e+01, 1.012e+03],\n",
       "       [0.000e+00, 2.200e+01, 2.100e+01, 6.600e+01, 1.011e+03],\n",
       "       [5.000e-01, 2.200e+01, 2.200e+01, 6.300e+01, 1.015e+03],\n",
       "       ...,\n",
       "       [8.000e-02, 3.000e+00, 1.600e+01, 9.400e+01, 1.021e+03],\n",
       "       [4.480e+00, 1.000e+00, 1.200e+01, 8.900e+01, 1.021e+03],\n",
       "       [2.300e-01, 2.000e+00, 1.000e+01, 9.000e+01, 1.027e+03]])"
      ]
     },
     "execution_count": 117,
     "metadata": {},
     "output_type": "execute_result"
    }
   ],
   "source": [
    "x"
   ]
  },
  {
   "cell_type": "code",
   "execution_count": 118,
   "id": "469da375-4301-4237-84ec-53bce00d8829",
   "metadata": {},
   "outputs": [],
   "source": [
    "from sklearn.model_selection import train_test_split"
   ]
  },
  {
   "cell_type": "code",
   "execution_count": 119,
   "id": "f43e20da-3288-4ac1-be99-87206c058633",
   "metadata": {},
   "outputs": [],
   "source": [
    "x_test , x_train , y_test , y_train = train_test_split(x,y,test_size=0.3,random_state=10)"
   ]
  },
  {
   "cell_type": "code",
   "execution_count": 120,
   "id": "ca16d974-9d81-49d5-b77e-4300b49eb7f2",
   "metadata": {},
   "outputs": [
    {
     "data": {
      "text/plain": [
       "1169"
      ]
     },
     "execution_count": 120,
     "metadata": {},
     "output_type": "execute_result"
    }
   ],
   "source": [
    "len(x_train)"
   ]
  },
  {
   "cell_type": "code",
   "execution_count": 121,
   "id": "595a226d-4fdb-474b-a22a-1fe18bdbe177",
   "metadata": {},
   "outputs": [],
   "source": [
    "from sklearn.preprocessing import MinMaxScaler"
   ]
  },
  {
   "cell_type": "code",
   "execution_count": 122,
   "id": "8681f241-77ae-44a1-b34a-a07ebdd35a4d",
   "metadata": {},
   "outputs": [],
   "source": [
    "scaler = MinMaxScaler()"
   ]
  },
  {
   "cell_type": "code",
   "execution_count": 123,
   "id": "bc0cdf67-555a-40f8-8f51-c4b314066c2e",
   "metadata": {},
   "outputs": [],
   "source": [
    "x_train = scaler.fit_transform(x_train)"
   ]
  },
  {
   "cell_type": "code",
   "execution_count": 124,
   "id": "0d645954-6bb3-4dc8-8588-a0a861bc1c8d",
   "metadata": {},
   "outputs": [],
   "source": [
    "x_test = scaler.transform(x_test)"
   ]
  },
  {
   "cell_type": "code",
   "execution_count": 125,
   "id": "13620762-1f5c-4539-90c2-fc99428b761d",
   "metadata": {},
   "outputs": [],
   "source": [
    "from tensorflow.keras.models import Sequential\n",
    "from tensorflow.keras.layers import Dense"
   ]
  },
  {
   "cell_type": "code",
   "execution_count": 126,
   "id": "9bd8e640-55f1-40ab-99ca-1a5ac9816326",
   "metadata": {},
   "outputs": [
    {
     "data": {
      "text/plain": [
       "(1169, 5)"
      ]
     },
     "execution_count": 126,
     "metadata": {},
     "output_type": "execute_result"
    }
   ],
   "source": [
    "x_train.shape"
   ]
  },
  {
   "cell_type": "code",
   "execution_count": 127,
   "id": "fdd922d8-f554-4fc9-919b-2332afde2249",
   "metadata": {},
   "outputs": [],
   "source": [
    "model = Sequential()\n",
    "\n",
    "model.add(Dense(5,activation=\"relu\"))\n",
    "model.add(Dense(5,activation=\"relu\"))\n",
    "model.add(Dense(5,activation=\"relu\"))\n",
    "model.add(Dense(5,activation=\"relu\"))\n",
    "\n",
    "model.add(Dense(1))\n",
    "\n",
    "model.compile(optimizer=\"adam\", loss=\"mse\")"
   ]
  },
  {
   "cell_type": "code",
   "execution_count": 128,
   "id": "0f9d8ae0-f5ac-4755-9c8a-0d753e9c37b4",
   "metadata": {},
   "outputs": [
    {
     "name": "stdout",
     "output_type": "stream",
     "text": [
      "Epoch 1/200\n",
      "12/12 [==============================] - 1s 17ms/step - loss: 389.2720 - val_loss: 379.0602\n",
      "Epoch 2/200\n",
      "12/12 [==============================] - 0s 6ms/step - loss: 386.1533 - val_loss: 375.9314\n",
      "Epoch 3/200\n",
      "12/12 [==============================] - 0s 8ms/step - loss: 382.9485 - val_loss: 372.5445\n",
      "Epoch 4/200\n",
      "12/12 [==============================] - 0s 7ms/step - loss: 379.3257 - val_loss: 368.6117\n",
      "Epoch 5/200\n",
      "12/12 [==============================] - 0s 7ms/step - loss: 375.0314 - val_loss: 363.9526\n",
      "Epoch 6/200\n",
      "12/12 [==============================] - 0s 7ms/step - loss: 369.9064 - val_loss: 358.4032\n",
      "Epoch 7/200\n",
      "12/12 [==============================] - 0s 7ms/step - loss: 363.7690 - val_loss: 351.7469\n",
      "Epoch 8/200\n",
      "12/12 [==============================] - 0s 7ms/step - loss: 356.4467 - val_loss: 343.7191\n",
      "Epoch 9/200\n",
      "12/12 [==============================] - 0s 8ms/step - loss: 347.5780 - val_loss: 334.2107\n",
      "Epoch 10/200\n",
      "12/12 [==============================] - 0s 7ms/step - loss: 337.1430 - val_loss: 322.9492\n",
      "Epoch 11/200\n",
      "12/12 [==============================] - 0s 7ms/step - loss: 324.8822 - val_loss: 309.7810\n",
      "Epoch 12/200\n",
      "12/12 [==============================] - 0s 6ms/step - loss: 310.5088 - val_loss: 294.5855\n",
      "Epoch 13/200\n",
      "12/12 [==============================] - 0s 7ms/step - loss: 294.0102 - val_loss: 277.0271\n",
      "Epoch 14/200\n",
      "12/12 [==============================] - 0s 6ms/step - loss: 274.9510 - val_loss: 257.1234\n",
      "Epoch 15/200\n",
      "12/12 [==============================] - 0s 7ms/step - loss: 253.5588 - val_loss: 234.7003\n",
      "Epoch 16/200\n",
      "12/12 [==============================] - 0s 7ms/step - loss: 229.7283 - val_loss: 210.0526\n",
      "Epoch 17/200\n",
      "12/12 [==============================] - 0s 6ms/step - loss: 203.6770 - val_loss: 183.7508\n",
      "Epoch 18/200\n",
      "12/12 [==============================] - 0s 7ms/step - loss: 175.8468 - val_loss: 156.2133\n",
      "Epoch 19/200\n",
      "12/12 [==============================] - 0s 7ms/step - loss: 147.1673 - val_loss: 128.4789\n",
      "Epoch 20/200\n",
      "12/12 [==============================] - 0s 7ms/step - loss: 119.2184 - val_loss: 102.0590\n",
      "Epoch 21/200\n",
      "12/12 [==============================] - 0s 6ms/step - loss: 93.5057 - val_loss: 80.0340\n",
      "Epoch 22/200\n",
      "12/12 [==============================] - 0s 8ms/step - loss: 73.6094 - val_loss: 63.7266\n",
      "Epoch 23/200\n",
      "12/12 [==============================] - 0s 7ms/step - loss: 59.4188 - val_loss: 54.0137\n",
      "Epoch 24/200\n",
      "12/12 [==============================] - 0s 9ms/step - loss: 51.5526 - val_loss: 49.1863\n",
      "Epoch 25/200\n",
      "12/12 [==============================] - 0s 7ms/step - loss: 47.7638 - val_loss: 47.2493\n",
      "Epoch 26/200\n",
      "12/12 [==============================] - 0s 7ms/step - loss: 46.3139 - val_loss: 46.2855\n",
      "Epoch 27/200\n",
      "12/12 [==============================] - 0s 7ms/step - loss: 45.2728 - val_loss: 45.5241\n",
      "Epoch 28/200\n",
      "12/12 [==============================] - 0s 7ms/step - loss: 44.5066 - val_loss: 44.7857\n",
      "Epoch 29/200\n",
      "12/12 [==============================] - 0s 7ms/step - loss: 43.7320 - val_loss: 44.0311\n",
      "Epoch 30/200\n",
      "12/12 [==============================] - 0s 8ms/step - loss: 42.9997 - val_loss: 43.3109\n",
      "Epoch 31/200\n",
      "12/12 [==============================] - 0s 7ms/step - loss: 42.2864 - val_loss: 42.6256\n",
      "Epoch 32/200\n",
      "12/12 [==============================] - 0s 6ms/step - loss: 41.5967 - val_loss: 41.9183\n",
      "Epoch 33/200\n",
      "12/12 [==============================] - 0s 8ms/step - loss: 40.9063 - val_loss: 41.2423\n",
      "Epoch 34/200\n",
      "12/12 [==============================] - 0s 7ms/step - loss: 40.2322 - val_loss: 40.5666\n",
      "Epoch 35/200\n",
      "12/12 [==============================] - 0s 8ms/step - loss: 39.5600 - val_loss: 39.9148\n",
      "Epoch 36/200\n",
      "12/12 [==============================] - 0s 9ms/step - loss: 38.9053 - val_loss: 39.2641\n",
      "Epoch 37/200\n",
      "12/12 [==============================] - 0s 9ms/step - loss: 38.2434 - val_loss: 38.6142\n",
      "Epoch 38/200\n",
      "12/12 [==============================] - 0s 10ms/step - loss: 37.5999 - val_loss: 37.9722\n",
      "Epoch 39/200\n",
      "12/12 [==============================] - 0s 7ms/step - loss: 36.9410 - val_loss: 37.3256\n",
      "Epoch 40/200\n",
      "12/12 [==============================] - 0s 7ms/step - loss: 36.2973 - val_loss: 36.6443\n",
      "Epoch 41/200\n",
      "12/12 [==============================] - 0s 7ms/step - loss: 35.6175 - val_loss: 35.9684\n",
      "Epoch 42/200\n",
      "12/12 [==============================] - 0s 8ms/step - loss: 34.9156 - val_loss: 35.2419\n",
      "Epoch 43/200\n",
      "12/12 [==============================] - 0s 8ms/step - loss: 34.1232 - val_loss: 34.3641\n",
      "Epoch 44/200\n",
      "12/12 [==============================] - 0s 7ms/step - loss: 33.0701 - val_loss: 33.0723\n",
      "Epoch 45/200\n",
      "12/12 [==============================] - 0s 7ms/step - loss: 31.6002 - val_loss: 31.3184\n",
      "Epoch 46/200\n",
      "12/12 [==============================] - 0s 7ms/step - loss: 29.7481 - val_loss: 29.4570\n",
      "Epoch 47/200\n",
      "12/12 [==============================] - 0s 8ms/step - loss: 27.9913 - val_loss: 27.7826\n",
      "Epoch 48/200\n",
      "12/12 [==============================] - 0s 8ms/step - loss: 26.4935 - val_loss: 26.4205\n",
      "Epoch 49/200\n",
      "12/12 [==============================] - 0s 9ms/step - loss: 25.2028 - val_loss: 25.1943\n",
      "Epoch 50/200\n",
      "12/12 [==============================] - 0s 8ms/step - loss: 24.0244 - val_loss: 23.9755\n",
      "Epoch 51/200\n",
      "12/12 [==============================] - 0s 7ms/step - loss: 22.8959 - val_loss: 22.8421\n",
      "Epoch 52/200\n",
      "12/12 [==============================] - 0s 9ms/step - loss: 21.8026 - val_loss: 21.7798\n",
      "Epoch 53/200\n",
      "12/12 [==============================] - 0s 8ms/step - loss: 20.7601 - val_loss: 20.7351\n",
      "Epoch 54/200\n",
      "12/12 [==============================] - 0s 9ms/step - loss: 19.7519 - val_loss: 19.7192\n",
      "Epoch 55/200\n",
      "12/12 [==============================] - 0s 8ms/step - loss: 18.7761 - val_loss: 18.7620\n",
      "Epoch 56/200\n",
      "12/12 [==============================] - 0s 7ms/step - loss: 17.8283 - val_loss: 17.8166\n",
      "Epoch 57/200\n",
      "12/12 [==============================] - 0s 8ms/step - loss: 16.9242 - val_loss: 16.8736\n",
      "Epoch 58/200\n",
      "12/12 [==============================] - 0s 8ms/step - loss: 16.0345 - val_loss: 16.0007\n",
      "Epoch 59/200\n",
      "12/12 [==============================] - 0s 8ms/step - loss: 15.1999 - val_loss: 15.1447\n",
      "Epoch 60/200\n",
      "12/12 [==============================] - 0s 9ms/step - loss: 14.4000 - val_loss: 14.3143\n",
      "Epoch 61/200\n",
      "12/12 [==============================] - 0s 8ms/step - loss: 13.6074 - val_loss: 13.5740\n",
      "Epoch 62/200\n",
      "12/12 [==============================] - 0s 8ms/step - loss: 12.8723 - val_loss: 12.8334\n",
      "Epoch 63/200\n",
      "12/12 [==============================] - 0s 8ms/step - loss: 12.1776 - val_loss: 12.1335\n",
      "Epoch 64/200\n",
      "12/12 [==============================] - 0s 8ms/step - loss: 11.5139 - val_loss: 11.4603\n",
      "Epoch 65/200\n",
      "12/12 [==============================] - 0s 9ms/step - loss: 10.8845 - val_loss: 10.8306\n",
      "Epoch 66/200\n",
      "12/12 [==============================] - 0s 11ms/step - loss: 10.2903 - val_loss: 10.2444\n",
      "Epoch 67/200\n",
      "12/12 [==============================] - 0s 9ms/step - loss: 9.7488 - val_loss: 9.6815\n",
      "Epoch 68/200\n",
      "12/12 [==============================] - 0s 8ms/step - loss: 9.2273 - val_loss: 9.1765\n",
      "Epoch 69/200\n",
      "12/12 [==============================] - 0s 8ms/step - loss: 8.7618 - val_loss: 8.7059\n",
      "Epoch 70/200\n",
      "12/12 [==============================] - 0s 8ms/step - loss: 8.3117 - val_loss: 8.2382\n",
      "Epoch 71/200\n",
      "12/12 [==============================] - 0s 8ms/step - loss: 7.9008 - val_loss: 7.8407\n",
      "Epoch 72/200\n",
      "12/12 [==============================] - 0s 8ms/step - loss: 7.5248 - val_loss: 7.4923\n",
      "Epoch 73/200\n",
      "12/12 [==============================] - 0s 8ms/step - loss: 7.1955 - val_loss: 7.1342\n",
      "Epoch 74/200\n",
      "12/12 [==============================] - 0s 7ms/step - loss: 6.8836 - val_loss: 6.8330\n",
      "Epoch 75/200\n",
      "12/12 [==============================] - 0s 8ms/step - loss: 6.6145 - val_loss: 6.5679\n",
      "Epoch 76/200\n",
      "12/12 [==============================] - 0s 7ms/step - loss: 6.3764 - val_loss: 6.3211\n",
      "Epoch 77/200\n",
      "12/12 [==============================] - 0s 7ms/step - loss: 6.1595 - val_loss: 6.1041\n",
      "Epoch 78/200\n",
      "12/12 [==============================] - 0s 8ms/step - loss: 5.9729 - val_loss: 5.9180\n",
      "Epoch 79/200\n",
      "12/12 [==============================] - 0s 7ms/step - loss: 5.8051 - val_loss: 5.7455\n",
      "Epoch 80/200\n",
      "12/12 [==============================] - 0s 6ms/step - loss: 5.6543 - val_loss: 5.6053\n",
      "Epoch 81/200\n",
      "12/12 [==============================] - 0s 8ms/step - loss: 5.5252 - val_loss: 5.4800\n",
      "Epoch 82/200\n",
      "12/12 [==============================] - 0s 7ms/step - loss: 5.4157 - val_loss: 5.3659\n",
      "Epoch 83/200\n",
      "12/12 [==============================] - 0s 7ms/step - loss: 5.3177 - val_loss: 5.2585\n",
      "Epoch 84/200\n",
      "12/12 [==============================] - 0s 6ms/step - loss: 5.2310 - val_loss: 5.1725\n",
      "Epoch 85/200\n",
      "12/12 [==============================] - 0s 6ms/step - loss: 5.1556 - val_loss: 5.0960\n",
      "Epoch 86/200\n",
      "12/12 [==============================] - 0s 8ms/step - loss: 5.0887 - val_loss: 5.0212\n",
      "Epoch 87/200\n",
      "12/12 [==============================] - 0s 7ms/step - loss: 5.0189 - val_loss: 4.9129\n",
      "Epoch 88/200\n",
      "12/12 [==============================] - 0s 6ms/step - loss: 4.9110 - val_loss: 4.8031\n",
      "Epoch 89/200\n",
      "12/12 [==============================] - 0s 6ms/step - loss: 4.8224 - val_loss: 4.7455\n",
      "Epoch 90/200\n",
      "12/12 [==============================] - 0s 8ms/step - loss: 4.7595 - val_loss: 4.6768\n",
      "Epoch 91/200\n",
      "12/12 [==============================] - 0s 7ms/step - loss: 4.7020 - val_loss: 4.6289\n",
      "Epoch 92/200\n",
      "12/12 [==============================] - 0s 7ms/step - loss: 4.6601 - val_loss: 4.5777\n",
      "Epoch 93/200\n",
      "12/12 [==============================] - 0s 7ms/step - loss: 4.6285 - val_loss: 4.5503\n",
      "Epoch 94/200\n",
      "12/12 [==============================] - 0s 8ms/step - loss: 4.5935 - val_loss: 4.5452\n",
      "Epoch 95/200\n",
      "12/12 [==============================] - 0s 7ms/step - loss: 4.5817 - val_loss: 4.5120\n",
      "Epoch 96/200\n",
      "12/12 [==============================] - 0s 9ms/step - loss: 4.5536 - val_loss: 4.4852\n",
      "Epoch 97/200\n",
      "12/12 [==============================] - 0s 8ms/step - loss: 4.5342 - val_loss: 4.4852\n",
      "Epoch 98/200\n",
      "12/12 [==============================] - 0s 6ms/step - loss: 4.5178 - val_loss: 4.4641\n",
      "Epoch 99/200\n",
      "12/12 [==============================] - 0s 8ms/step - loss: 4.4946 - val_loss: 4.4401\n",
      "Epoch 100/200\n",
      "12/12 [==============================] - 0s 7ms/step - loss: 4.4884 - val_loss: 4.4334\n",
      "Epoch 101/200\n",
      "12/12 [==============================] - 0s 7ms/step - loss: 4.4741 - val_loss: 4.4324\n",
      "Epoch 102/200\n",
      "12/12 [==============================] - 0s 6ms/step - loss: 4.4599 - val_loss: 4.4159\n",
      "Epoch 103/200\n",
      "12/12 [==============================] - 0s 6ms/step - loss: 4.4517 - val_loss: 4.4083\n",
      "Epoch 104/200\n",
      "12/12 [==============================] - 0s 7ms/step - loss: 4.4422 - val_loss: 4.4129\n",
      "Epoch 105/200\n",
      "12/12 [==============================] - 0s 6ms/step - loss: 4.4437 - val_loss: 4.3982\n",
      "Epoch 106/200\n",
      "12/12 [==============================] - 0s 6ms/step - loss: 4.4297 - val_loss: 4.3972\n",
      "Epoch 107/200\n",
      "12/12 [==============================] - 0s 6ms/step - loss: 4.4197 - val_loss: 4.3821\n",
      "Epoch 108/200\n",
      "12/12 [==============================] - 0s 6ms/step - loss: 4.4191 - val_loss: 4.3799\n",
      "Epoch 109/200\n",
      "12/12 [==============================] - 0s 6ms/step - loss: 4.4118 - val_loss: 4.3872\n",
      "Epoch 110/200\n",
      "12/12 [==============================] - 0s 7ms/step - loss: 4.4072 - val_loss: 4.3711\n",
      "Epoch 111/200\n",
      "12/12 [==============================] - 0s 7ms/step - loss: 4.4029 - val_loss: 4.3703\n",
      "Epoch 112/200\n",
      "12/12 [==============================] - 0s 7ms/step - loss: 4.3963 - val_loss: 4.3665\n",
      "Epoch 113/200\n",
      "12/12 [==============================] - 0s 8ms/step - loss: 4.3895 - val_loss: 4.3547\n",
      "Epoch 114/200\n",
      "12/12 [==============================] - 0s 7ms/step - loss: 4.3914 - val_loss: 4.3660\n",
      "Epoch 115/200\n",
      "12/12 [==============================] - 0s 6ms/step - loss: 4.3893 - val_loss: 4.3514\n",
      "Epoch 116/200\n",
      "12/12 [==============================] - 0s 6ms/step - loss: 4.3854 - val_loss: 4.3486\n",
      "Epoch 117/200\n",
      "12/12 [==============================] - 0s 7ms/step - loss: 4.3887 - val_loss: 4.3592\n",
      "Epoch 118/200\n",
      "12/12 [==============================] - 0s 6ms/step - loss: 4.3873 - val_loss: 4.3411\n",
      "Epoch 119/200\n",
      "12/12 [==============================] - 0s 7ms/step - loss: 4.3887 - val_loss: 4.3608\n",
      "Epoch 120/200\n",
      "12/12 [==============================] - 0s 8ms/step - loss: 4.3700 - val_loss: 4.3356\n",
      "Epoch 121/200\n",
      "12/12 [==============================] - 0s 7ms/step - loss: 4.3709 - val_loss: 4.3448\n",
      "Epoch 122/200\n",
      "12/12 [==============================] - 0s 7ms/step - loss: 4.3622 - val_loss: 4.3369\n",
      "Epoch 123/200\n",
      "12/12 [==============================] - 0s 6ms/step - loss: 4.3683 - val_loss: 4.3341\n",
      "Epoch 124/200\n",
      "12/12 [==============================] - 0s 6ms/step - loss: 4.3689 - val_loss: 4.3408\n",
      "Epoch 125/200\n",
      "12/12 [==============================] - 0s 8ms/step - loss: 4.3644 - val_loss: 4.3342\n",
      "Epoch 126/200\n",
      "12/12 [==============================] - 0s 7ms/step - loss: 4.3547 - val_loss: 4.3350\n",
      "Epoch 127/200\n",
      "12/12 [==============================] - 0s 7ms/step - loss: 4.3566 - val_loss: 4.3250\n",
      "Epoch 128/200\n",
      "12/12 [==============================] - 0s 7ms/step - loss: 4.3536 - val_loss: 4.3338\n",
      "Epoch 129/200\n",
      "12/12 [==============================] - 0s 7ms/step - loss: 4.3572 - val_loss: 4.3249\n",
      "Epoch 130/200\n",
      "12/12 [==============================] - 0s 7ms/step - loss: 4.3476 - val_loss: 4.3366\n",
      "Epoch 131/200\n",
      "12/12 [==============================] - 0s 7ms/step - loss: 4.3503 - val_loss: 4.3351\n",
      "Epoch 132/200\n",
      "12/12 [==============================] - 0s 7ms/step - loss: 4.3528 - val_loss: 4.3250\n",
      "Epoch 133/200\n",
      "12/12 [==============================] - 0s 7ms/step - loss: 4.3419 - val_loss: 4.3237\n",
      "Epoch 134/200\n",
      "12/12 [==============================] - 0s 11ms/step - loss: 4.3469 - val_loss: 4.3210\n",
      "Epoch 135/200\n",
      "12/12 [==============================] - 0s 7ms/step - loss: 4.3419 - val_loss: 4.3252\n",
      "Epoch 136/200\n",
      "12/12 [==============================] - 0s 6ms/step - loss: 4.3370 - val_loss: 4.3215\n",
      "Epoch 137/200\n",
      "12/12 [==============================] - 0s 7ms/step - loss: 4.3384 - val_loss: 4.3220\n",
      "Epoch 138/200\n",
      "12/12 [==============================] - 0s 6ms/step - loss: 4.3383 - val_loss: 4.3212\n",
      "Epoch 139/200\n",
      "12/12 [==============================] - 0s 7ms/step - loss: 4.3421 - val_loss: 4.3159\n",
      "Epoch 140/200\n",
      "12/12 [==============================] - 0s 7ms/step - loss: 4.3452 - val_loss: 4.3166\n",
      "Epoch 141/200\n",
      "12/12 [==============================] - 0s 7ms/step - loss: 4.3464 - val_loss: 4.3306\n",
      "Epoch 142/200\n",
      "12/12 [==============================] - 0s 7ms/step - loss: 4.3494 - val_loss: 4.3139\n",
      "Epoch 143/200\n",
      "12/12 [==============================] - 0s 7ms/step - loss: 4.3329 - val_loss: 4.3388\n",
      "Epoch 144/200\n",
      "12/12 [==============================] - 0s 7ms/step - loss: 4.3451 - val_loss: 4.3130\n",
      "Epoch 145/200\n",
      "12/12 [==============================] - 0s 7ms/step - loss: 4.3480 - val_loss: 4.3233\n",
      "Epoch 146/200\n",
      "12/12 [==============================] - 0s 7ms/step - loss: 4.3481 - val_loss: 4.3157\n",
      "Epoch 147/200\n",
      "12/12 [==============================] - 0s 7ms/step - loss: 4.3327 - val_loss: 4.3165\n",
      "Epoch 148/200\n",
      "12/12 [==============================] - 0s 6ms/step - loss: 4.3322 - val_loss: 4.3140\n",
      "Epoch 149/200\n",
      "12/12 [==============================] - 0s 8ms/step - loss: 4.3290 - val_loss: 4.3193\n",
      "Epoch 150/200\n",
      "12/12 [==============================] - 0s 7ms/step - loss: 4.3275 - val_loss: 4.3164\n",
      "Epoch 151/200\n",
      "12/12 [==============================] - 0s 7ms/step - loss: 4.3232 - val_loss: 4.3115\n",
      "Epoch 152/200\n",
      "12/12 [==============================] - 0s 8ms/step - loss: 4.3285 - val_loss: 4.3111\n",
      "Epoch 153/200\n",
      "12/12 [==============================] - 0s 8ms/step - loss: 4.3290 - val_loss: 4.3136\n",
      "Epoch 154/200\n",
      "12/12 [==============================] - 0s 7ms/step - loss: 4.3277 - val_loss: 4.3186\n",
      "Epoch 155/200\n",
      "12/12 [==============================] - 0s 9ms/step - loss: 4.3216 - val_loss: 4.3076\n",
      "Epoch 156/200\n",
      "12/12 [==============================] - 0s 6ms/step - loss: 4.3299 - val_loss: 4.3110\n",
      "Epoch 157/200\n",
      "12/12 [==============================] - 0s 8ms/step - loss: 4.3257 - val_loss: 4.3114\n",
      "Epoch 158/200\n",
      "12/12 [==============================] - 0s 7ms/step - loss: 4.3283 - val_loss: 4.3228\n",
      "Epoch 159/200\n",
      "12/12 [==============================] - 0s 7ms/step - loss: 4.3151 - val_loss: 4.3055\n",
      "Epoch 160/200\n",
      "12/12 [==============================] - 0s 7ms/step - loss: 4.3313 - val_loss: 4.3105\n",
      "Epoch 161/200\n",
      "12/12 [==============================] - 0s 7ms/step - loss: 4.3208 - val_loss: 4.3124\n",
      "Epoch 162/200\n",
      "12/12 [==============================] - 0s 7ms/step - loss: 4.3205 - val_loss: 4.3076\n",
      "Epoch 163/200\n",
      "12/12 [==============================] - 0s 8ms/step - loss: 4.3222 - val_loss: 4.3065\n",
      "Epoch 164/200\n",
      "12/12 [==============================] - 0s 7ms/step - loss: 4.3373 - val_loss: 4.3113\n",
      "Epoch 165/200\n",
      "12/12 [==============================] - 0s 7ms/step - loss: 4.3163 - val_loss: 4.3046\n",
      "Epoch 166/200\n",
      "12/12 [==============================] - 0s 7ms/step - loss: 4.3330 - val_loss: 4.3188\n",
      "Epoch 167/200\n",
      "12/12 [==============================] - 0s 7ms/step - loss: 4.3255 - val_loss: 4.3044\n",
      "Epoch 168/200\n",
      "12/12 [==============================] - 0s 7ms/step - loss: 4.3412 - val_loss: 4.3112\n",
      "Epoch 169/200\n",
      "12/12 [==============================] - 0s 7ms/step - loss: 4.3344 - val_loss: 4.3042\n",
      "Epoch 170/200\n",
      "12/12 [==============================] - 0s 7ms/step - loss: 4.3221 - val_loss: 4.3082\n",
      "Epoch 171/200\n",
      "12/12 [==============================] - 0s 6ms/step - loss: 4.3194 - val_loss: 4.3104\n",
      "Epoch 172/200\n",
      "12/12 [==============================] - 0s 8ms/step - loss: 4.3198 - val_loss: 4.3033\n",
      "Epoch 173/200\n",
      "12/12 [==============================] - 0s 7ms/step - loss: 4.3189 - val_loss: 4.3065\n",
      "Epoch 174/200\n",
      "12/12 [==============================] - 0s 7ms/step - loss: 4.3257 - val_loss: 4.3060\n",
      "Epoch 175/200\n",
      "12/12 [==============================] - 0s 7ms/step - loss: 4.3246 - val_loss: 4.3037\n",
      "Epoch 176/200\n",
      "12/12 [==============================] - 0s 7ms/step - loss: 4.3271 - val_loss: 4.3078\n",
      "Epoch 177/200\n",
      "12/12 [==============================] - 0s 7ms/step - loss: 4.3140 - val_loss: 4.3027\n",
      "Epoch 178/200\n",
      "12/12 [==============================] - 0s 6ms/step - loss: 4.3171 - val_loss: 4.3080\n",
      "Epoch 179/200\n",
      "12/12 [==============================] - 0s 7ms/step - loss: 4.3166 - val_loss: 4.3056\n",
      "Epoch 180/200\n",
      "12/12 [==============================] - 0s 7ms/step - loss: 4.3201 - val_loss: 4.3037\n",
      "Epoch 181/200\n",
      "12/12 [==============================] - 0s 7ms/step - loss: 4.3172 - val_loss: 4.3017\n",
      "Epoch 182/200\n",
      "12/12 [==============================] - 0s 7ms/step - loss: 4.3155 - val_loss: 4.3101\n",
      "Epoch 183/200\n",
      "12/12 [==============================] - 0s 8ms/step - loss: 4.3143 - val_loss: 4.3035\n",
      "Epoch 184/200\n",
      "12/12 [==============================] - 0s 9ms/step - loss: 4.3201 - val_loss: 4.3040\n",
      "Epoch 185/200\n",
      "12/12 [==============================] - 0s 7ms/step - loss: 4.3333 - val_loss: 4.3030\n",
      "Epoch 186/200\n",
      "12/12 [==============================] - 0s 7ms/step - loss: 4.3256 - val_loss: 4.3025\n",
      "Epoch 187/200\n",
      "12/12 [==============================] - 0s 8ms/step - loss: 4.3416 - val_loss: 4.3040\n",
      "Epoch 188/200\n",
      "12/12 [==============================] - 0s 7ms/step - loss: 4.3193 - val_loss: 4.2997\n",
      "Epoch 189/200\n",
      "12/12 [==============================] - 0s 7ms/step - loss: 4.3163 - val_loss: 4.3087\n",
      "Epoch 190/200\n",
      "12/12 [==============================] - 0s 8ms/step - loss: 4.3256 - val_loss: 4.3074\n",
      "Epoch 191/200\n",
      "12/12 [==============================] - 0s 7ms/step - loss: 4.3167 - val_loss: 4.2996\n",
      "Epoch 192/200\n",
      "12/12 [==============================] - 0s 6ms/step - loss: 4.3117 - val_loss: 4.3281\n",
      "Epoch 193/200\n",
      "12/12 [==============================] - 0s 7ms/step - loss: 4.3268 - val_loss: 4.3030\n",
      "Epoch 194/200\n",
      "12/12 [==============================] - 0s 7ms/step - loss: 4.3226 - val_loss: 4.2993\n",
      "Epoch 195/200\n",
      "12/12 [==============================] - 0s 6ms/step - loss: 4.3148 - val_loss: 4.3139\n",
      "Epoch 196/200\n",
      "12/12 [==============================] - 0s 8ms/step - loss: 4.3116 - val_loss: 4.2989\n",
      "Epoch 197/200\n",
      "12/12 [==============================] - 0s 6ms/step - loss: 4.3273 - val_loss: 4.3182\n",
      "Epoch 198/200\n",
      "12/12 [==============================] - 0s 7ms/step - loss: 4.3210 - val_loss: 4.3062\n",
      "Epoch 199/200\n",
      "12/12 [==============================] - 0s 6ms/step - loss: 4.3209 - val_loss: 4.3043\n",
      "Epoch 200/200\n",
      "12/12 [==============================] - 0s 7ms/step - loss: 4.3141 - val_loss: 4.3012\n"
     ]
    },
    {
     "data": {
      "text/plain": [
       "<keras.src.callbacks.History at 0x1d195d66750>"
      ]
     },
     "execution_count": 128,
     "metadata": {},
     "output_type": "execute_result"
    }
   ],
   "source": [
    "model.fit(x=x_train,y=y_train,validation_data=(x_test,y_test),batch_size=100,epochs=200)"
   ]
  },
  {
   "cell_type": "code",
   "execution_count": 129,
   "id": "1eaa6286-3509-421b-adee-5ab55396db30",
   "metadata": {},
   "outputs": [],
   "source": [
    "loss = pd.DataFrame(model.history.history)"
   ]
  },
  {
   "cell_type": "code",
   "execution_count": 130,
   "id": "23ab2681-4aba-41dd-99e4-5c9303fbf8a0",
   "metadata": {},
   "outputs": [
    {
     "data": {
      "text/html": [
       "<div>\n",
       "<style scoped>\n",
       "    .dataframe tbody tr th:only-of-type {\n",
       "        vertical-align: middle;\n",
       "    }\n",
       "\n",
       "    .dataframe tbody tr th {\n",
       "        vertical-align: top;\n",
       "    }\n",
       "\n",
       "    .dataframe thead th {\n",
       "        text-align: right;\n",
       "    }\n",
       "</style>\n",
       "<table border=\"1\" class=\"dataframe\">\n",
       "  <thead>\n",
       "    <tr style=\"text-align: right;\">\n",
       "      <th></th>\n",
       "      <th>loss</th>\n",
       "      <th>val_loss</th>\n",
       "    </tr>\n",
       "  </thead>\n",
       "  <tbody>\n",
       "    <tr>\n",
       "      <th>0</th>\n",
       "      <td>389.271973</td>\n",
       "      <td>379.060242</td>\n",
       "    </tr>\n",
       "    <tr>\n",
       "      <th>1</th>\n",
       "      <td>386.153290</td>\n",
       "      <td>375.931366</td>\n",
       "    </tr>\n",
       "    <tr>\n",
       "      <th>2</th>\n",
       "      <td>382.948456</td>\n",
       "      <td>372.544525</td>\n",
       "    </tr>\n",
       "    <tr>\n",
       "      <th>3</th>\n",
       "      <td>379.325684</td>\n",
       "      <td>368.611664</td>\n",
       "    </tr>\n",
       "    <tr>\n",
       "      <th>4</th>\n",
       "      <td>375.031403</td>\n",
       "      <td>363.952576</td>\n",
       "    </tr>\n",
       "  </tbody>\n",
       "</table>\n",
       "</div>"
      ],
      "text/plain": [
       "         loss    val_loss\n",
       "0  389.271973  379.060242\n",
       "1  386.153290  375.931366\n",
       "2  382.948456  372.544525\n",
       "3  379.325684  368.611664\n",
       "4  375.031403  363.952576"
      ]
     },
     "execution_count": 130,
     "metadata": {},
     "output_type": "execute_result"
    }
   ],
   "source": [
    "loss.head()"
   ]
  },
  {
   "cell_type": "code",
   "execution_count": 131,
   "id": "9e43be53-5538-413d-a35f-761c27b33037",
   "metadata": {},
   "outputs": [
    {
     "data": {
      "text/plain": [
       "<Axes: >"
      ]
     },
     "execution_count": 131,
     "metadata": {},
     "output_type": "execute_result"
    },
    {
     "data": {
      "image/png": "[encoded data removed]",
      "text/plain": [
       "<Figure size 640x480 with 1 Axes>"
      ]
     },
     "metadata": {},
     "output_type": "display_data"
    }
   ],
   "source": [
    "loss.plot()"
   ]
  },
  {
   "cell_type": "code",
   "execution_count": 132,
   "id": "ff61ce56-a3f6-4694-919f-9f05ffa662ef",
   "metadata": {},
   "outputs": [
    {
     "name": "stdout",
     "output_type": "stream",
     "text": [
      "37/37 [==============================] - 0s 1ms/step\n",
      "86/86 [==============================] - 0s 1ms/step\n"
     ]
    }
   ],
   "source": [
    "# Modelin eğitildiği yerden sonra\n",
    "\n",
    "# Eğitim veri setindeki örnekler üzerinde tahminler yapma\n",
    "train_predictions = model.predict(x_train)\n",
    "\n",
    "# Test veri setindeki örnekler üzerinde tahminler yapma\n",
    "test_predictions = model.predict(x_test)\n"
   ]
  },
  {
   "cell_type": "code",
   "execution_count": 167,
   "id": "d4c9d3ce-780e-45d6-9c9d-cd5af574e8df",
   "metadata": {},
   "outputs": [
    {
     "name": "stdout",
     "output_type": "stream",
     "text": [
      "MSE (Eğitim): 4.308710669919223\n",
      "MSE (Test): 4.301179765730172\n"
     ]
    }
   ],
   "source": [
    "from sklearn.metrics import mean_squared_error\n",
    "\n",
    "mse_train = mean_squared_error(y_train, train_predictions)\n",
    "\n",
    "mse_test = mean_squared_error(y_test, test_predictions)\n",
    "\n",
    "print(f'MSE (Eğitim): {mse_train}')\n",
    "print(f'MSE (Test): {mse_test}')\n"
   ]
  },
  {
   "cell_type": "markdown",
   "id": "1777c44b-53e1-45de-9ded-f56041a8f1e7",
   "metadata": {},
   "source": [
    "## a predict for max temp with random datas "
   ]
  },
  {
   "cell_type": "code",
   "execution_count": 166,
   "id": "f0d68208-6075-49b1-8931-4b3db9427c61",
   "metadata": {},
   "outputs": [],
   "source": [
    "newTemp =pd.DataFrame({\n",
    "    'Rain': [0],\n",
    "    'MinTemp': [15],\n",
    "    'AvgWind': [5],\n",
    "    'AvgHumidty': [60],\n",
    "    'AvgPressure' : [1012]\n",
    "})"
   ]
  },
  {
   "cell_type": "code",
   "execution_count": 163,
   "id": "afc74ee0-d159-47ef-8fea-4cb1ec65ac8b",
   "metadata": {},
   "outputs": [
    {
     "data": {
      "text/html": [
       "<div>\n",
       "<style scoped>\n",
       "    .dataframe tbody tr th:only-of-type {\n",
       "        vertical-align: middle;\n",
       "    }\n",
       "\n",
       "    .dataframe tbody tr th {\n",
       "        vertical-align: top;\n",
       "    }\n",
       "\n",
       "    .dataframe thead th {\n",
       "        text-align: right;\n",
       "    }\n",
       "</style>\n",
       "<table border=\"1\" class=\"dataframe\">\n",
       "  <thead>\n",
       "    <tr style=\"text-align: right;\">\n",
       "      <th></th>\n",
       "      <th>Rain</th>\n",
       "      <th>MinTemp</th>\n",
       "      <th>AvgWind</th>\n",
       "      <th>AvgHumidty</th>\n",
       "      <th>AvgPressure</th>\n",
       "    </tr>\n",
       "  </thead>\n",
       "  <tbody>\n",
       "    <tr>\n",
       "      <th>0</th>\n",
       "      <td>0</td>\n",
       "      <td>15</td>\n",
       "      <td>5</td>\n",
       "      <td>60</td>\n",
       "      <td>1012</td>\n",
       "    </tr>\n",
       "  </tbody>\n",
       "</table>\n",
       "</div>"
      ],
      "text/plain": [
       "   Rain  MinTemp  AvgWind  AvgHumidty  AvgPressure\n",
       "0     0       15        5          60         1012"
      ]
     },
     "execution_count": 163,
     "metadata": {},
     "output_type": "execute_result"
    }
   ],
   "source": [
    "newTemp"
   ]
  },
  {
   "cell_type": "code",
   "execution_count": 164,
   "id": "5aab08d3-4d35-443c-9ef6-d8e9e704bd7b",
   "metadata": {},
   "outputs": [],
   "source": [
    "newTemp = scaler.transform(newTemp.values.reshape(-1,5))"
   ]
  },
  {
   "cell_type": "code",
   "execution_count": 165,
   "id": "8bc30347-6fc0-4b7e-8cc1-537473127982",
   "metadata": {},
   "outputs": [
    {
     "name": "stdout",
     "output_type": "stream",
     "text": [
      "1/1 [==============================] - 0s 20ms/step\n"
     ]
    },
    {
     "data": {
      "text/plain": [
       "array([[21.872221]], dtype=float32)"
      ]
     },
     "execution_count": 165,
     "metadata": {},
     "output_type": "execute_result"
    }
   ],
   "source": [
    "model.predict(newTemp)"
   ]
  },
  {
   "cell_type": "code",
   "execution_count": null,
   "id": "69bc52ba-57f8-4137-a5e5-0b0bab2113ae",
   "metadata": {},
   "outputs": [],
   "source": []
  }
 ],
 "metadata": {
  "kernelspec": {
   "display_name": "Python 3 (ipykernel)",
   "language": "python",
   "name": "python3"
  },
  "language_info": {
   "codemirror_mode": {
    "name": "ipython",
    "version": 3
   },
   "file_extension": ".py",
   "mimetype": "text/x-python",
   "name": "python",
   "nbconvert_exporter": "python",
   "pygments_lexer": "ipython3",
   "version": "3.11.0"
  }
 },
 "nbformat": 4,
 "nbformat_minor": 5
}
